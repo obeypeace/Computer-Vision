{
 "cells": [
  {
   "cell_type": "code",
   "execution_count": 5,
   "id": "0f6a35ce",
   "metadata": {},
   "outputs": [],
   "source": [
    "# step 1: importing libraries\n",
    "import cv2\n",
    "import mediapipe as mp"
   ]
  },
  {
   "cell_type": "code",
   "execution_count": 6,
   "id": "e76e7722",
   "metadata": {},
   "outputs": [],
   "source": [
    "# step 2: identify your webcam\n",
    "cap = cv2.VideoCapture(0)"
   ]
  },
  {
   "cell_type": "code",
   "execution_count": 7,
   "id": "8820653c",
   "metadata": {},
   "outputs": [],
   "source": [
    "# leveraging the mediapipe pose detection libraray\n",
    "mpPose = mp.solutions.pose\n",
    "pose = mpPose.Pose()\n",
    "\n",
    "# to draw and connect the landmarks\n",
    "mpDraw = mp.solutions.drawing_utils"
   ]
  },
  {
   "cell_type": "code",
   "execution_count": null,
   "id": "34422ef1",
   "metadata": {},
   "outputs": [],
   "source": [
    "# step 3: switch on webcam\n",
    "while True:\n",
    "    _, img = cap.read()\n",
    "    \n",
    "    # convert img from BGR to RGB\n",
    "    imgRGB = cv2.cvtColor(img, cv2.COLOR_BGR2RGB)\n",
    "    \n",
    "    # apply mediapipe\n",
    "    results = pose.process(imgRGB)\n",
    "    # print(results.pose_landmarks)\n",
    "    \n",
    "    # draw landmarks\n",
    "    if results.pose_landmarks:\n",
    "        mpDraw.draw_landmarks(img, results.pose_landmarks, mpPose.POSE_CONNECTIONS)\n",
    "                \n",
    "    cv2.putText(img, \"POSE Detection Program\", (10,50), cv2.FONT_HERSHEY_PLAIN, 3, (0,0,0), 3)\n",
    "    \n",
    "    cv2.imshow(\"10Alytics Hand detection project\", img)\n",
    "    if cv2.waitKey(1) & 0xff == ord(\"p\"):\n",
    "        break\n",
    "\n",
    "# release the capture once all the processing is done\n",
    "cap.release()\n",
    "cv2.destroyAllWindows()"
   ]
  },
  {
   "cell_type": "code",
   "execution_count": null,
   "id": "a0a86e1f",
   "metadata": {},
   "outputs": [],
   "source": []
  }
 ],
 "metadata": {
  "kernelspec": {
   "display_name": "Python 3 (ipykernel)",
   "language": "python",
   "name": "python3"
  },
  "language_info": {
   "codemirror_mode": {
    "name": "ipython",
    "version": 3
   },
   "file_extension": ".py",
   "mimetype": "text/x-python",
   "name": "python",
   "nbconvert_exporter": "python",
   "pygments_lexer": "ipython3",
   "version": "3.11.5"
  }
 },
 "nbformat": 4,
 "nbformat_minor": 5
}
