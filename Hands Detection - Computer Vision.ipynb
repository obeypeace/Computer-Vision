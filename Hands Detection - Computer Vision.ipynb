{
 "cells": [
  {
   "cell_type": "code",
   "execution_count": 1,
   "id": "6afbd688",
   "metadata": {},
   "outputs": [],
   "source": [
    "# ! pip install opencv-python"
   ]
  },
  {
   "cell_type": "code",
   "execution_count": 2,
   "id": "b7d774e6",
   "metadata": {},
   "outputs": [],
   "source": [
    "# step 1: importing libraries\n",
    "import cv2\n",
    "import mediapipe as mp"
   ]
  },
  {
   "cell_type": "code",
   "execution_count": 3,
   "id": "fb2a5520",
   "metadata": {},
   "outputs": [],
   "source": [
    "# pip uninstall opencv-python-headless -y "
   ]
  },
  {
   "cell_type": "code",
   "execution_count": 4,
   "id": "274256a0",
   "metadata": {},
   "outputs": [],
   "source": [
    "# pip install opencv-python --upgrade"
   ]
  },
  {
   "cell_type": "code",
   "execution_count": 5,
   "id": "a254fdd6",
   "metadata": {},
   "outputs": [],
   "source": [
    "# step 2: identify your webcam\n",
    "cap = cv2.VideoCapture(0)"
   ]
  },
  {
   "cell_type": "code",
   "execution_count": 6,
   "id": "7c67242e",
   "metadata": {},
   "outputs": [],
   "source": [
    "# leveraging the mediapipe hand detection libraray\n",
    "mpHands = mp.solutions.hands\n",
    "hands = mpHands.Hands()\n",
    "mpDraw = mp.solutions.drawing_utils"
   ]
  },
  {
   "cell_type": "code",
   "execution_count": null,
   "id": "2c9f3d04",
   "metadata": {},
   "outputs": [],
   "source": []
  },
  {
   "cell_type": "code",
   "execution_count": null,
   "id": "7c6ad65c",
   "metadata": {},
   "outputs": [],
   "source": [
    "# step 3: switch on webcam\n",
    "while True:\n",
    "    _, img = cap.read()\n",
    "    \n",
    "    # convert img from BGR to RGB\n",
    "    imgRGB = cv2.cvtColor(img, cv2.COLOR_BGR2RGB)\n",
    "    \n",
    "    # apply mediapipe\n",
    "    results = hands.process(imgRGB)\n",
    "    # print(results.multi_hand_landmarks)\n",
    "    \n",
    "    if results.multi_hand_landmarks:\n",
    "        for hands_lm in results.multi_hand_landmarks:\n",
    "            for id, lm in enumerate(hands_lm.landmark):\n",
    "                # print(id, lm)\n",
    "                \n",
    "                mpDraw.draw_landmarks(img, hands_lm, mpHands.HAND_CONNECTIONS)\n",
    "                cv2.putText(img, \"Hand Detection Program\", (10,70), cv2.FONT_HERSHEY_PLAIN, 3, (0,0,0), 2)\n",
    "                \n",
    "    cv2.imshow(\"10Alytics Hand detection project\", img)\n",
    "    if cv2.waitKey(1) & 0xff == ord(\"p\"):\n",
    "        break\n",
    "\n",
    "# release the capture once all the processing is done\n",
    "cap.release()\n",
    "cv2.destroyAllWindows()"
   ]
  },
  {
   "cell_type": "code",
   "execution_count": null,
   "id": "4920f6bf",
   "metadata": {},
   "outputs": [],
   "source": []
  }
 ],
 "metadata": {
  "kernelspec": {
   "display_name": "Python 3 (ipykernel)",
   "language": "python",
   "name": "python3"
  },
  "language_info": {
   "codemirror_mode": {
    "name": "ipython",
    "version": 3
   },
   "file_extension": ".py",
   "mimetype": "text/x-python",
   "name": "python",
   "nbconvert_exporter": "python",
   "pygments_lexer": "ipython3",
   "version": "3.11.5"
  }
 },
 "nbformat": 4,
 "nbformat_minor": 5
}
